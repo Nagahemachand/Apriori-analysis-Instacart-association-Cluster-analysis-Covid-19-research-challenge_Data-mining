{
 "cells": [
  {
   "cell_type": "markdown",
   "metadata": {
    "_cell_guid": "450fd31f-55ff-435d-b420-8a8cd33ea7c9",
    "_uuid": "4c788bfac2c397099c4eaa99656a7a83036b3d45"
   },
   "source": [
    "# Association Rules Mining Using Python Generators to Handle Large Datasets"
   ]
  },
  {
   "cell_type": "markdown",
   "metadata": {
    "_cell_guid": "7cf99a98-f1f2-4666-a39e-aa923c3a0c07",
    "_uuid": "aa1d4de4449ca66d8d315d8df6d20fc12c4f82e7"
   },
   "source": [
    "### Python Generators\n",
    "\n",
    "Python generator are special type of functions that returns an iterable sequence of items.  However, unlike regular functions which return all the values at once (eg: returning all the elements of a list), a generator <i>yields</i> one value at a time.  To get the next value in the set, we must ask for it - either by explicitly calling the generator's built-in \"next\" method, or implicitly via a for loop.  This is a great property of generators because it means that we don't have to store all of the values in memory at once.  We can load and process one value at a time, discard when finished and move on to process the next value.  This feature makes generators perfect for creating item pairs and counting their frequency of co-occurence.  Here's a concrete example of what we're trying to accomplish:  \n",
    "\n",
    "1. Get all possible item pairs for a given order \n",
    "       eg:  order 1:  apple, egg, milk   -->  item pairs: {apple, egg}, {apple, milk}, {egg, milk}\n",
    "            order 2:  egg, milk          -->  item pairs: {egg, milk}\n",
    "            \n",
    "2. Count the number of times each item pair appears\n",
    "       eg: {apple, egg}: 1\n",
    "           {apple, milk}: 1\n",
    "           {egg, milk}: 2\n",
    "\n",
    "Here's the generator that implements the above tasks:"
   ]
  },
  {
   "cell_type": "code",
   "execution_count": 1,
   "metadata": {
    "_cell_guid": "cac0e787-9263-4d31-b070-eb1742928782",
    "_uuid": "a16756678652a9f0108e88c238bd23ca6658e0ab"
   },
   "outputs": [
    {
     "data": {
      "text/plain": [
       "Counter({('apple', 'egg'): 1, ('apple', 'milk'): 1, ('egg', 'milk'): 2})"
      ]
     },
     "execution_count": 1,
     "metadata": {},
     "output_type": "execute_result"
    }
   ],
   "source": [
    "import numpy as np\n",
    "from itertools import combinations, groupby\n",
    "from collections import Counter\n",
    "\n",
    "# Sample data\n",
    "orders = np.array([[1,'apple'], [1,'egg'], [1,'milk'], [2,'egg'], [2,'milk']], dtype=object)\n",
    "\n",
    "# Generator that yields item pairs, one at a time\n",
    "def get_item_pairs(order_item):\n",
    "    \n",
    "    # For each order, generate a list of items in that order\n",
    "    for order_id, order_object in groupby(orders, lambda x: x[0]):\n",
    "        item_list = [item[1] for item in order_object]      \n",
    "    \n",
    "        # For each item list, generate item pairs, one at a time\n",
    "        for item_pair in combinations(item_list, 2):\n",
    "            yield item_pair                                      \n",
    "\n",
    "\n",
    "# Counter iterates through the item pairs returned by our generator and keeps a tally of their occurrence\n",
    "Counter(get_item_pairs(orders))"
   ]
  },
  {
   "cell_type": "markdown",
   "metadata": {
    "_cell_guid": "73cd2676-7749-47c3-b9c9-0da9c93c0790",
    "_uuid": "f9359858a4df545cb88f989cce45092a3a89df2b"
   },
   "source": [
    "<i>get_item_pairs()</i> generates a list of items for each order and produces item pairs for that order, one pair at a time.  The first item pair is passed to Counter which keeps track of the number of times an item pair occurs.  The next item pair is taken, and again, passed to Counter.  This process continues until there are no more item pairs left.  With this approach, we end up not using much memory as item pairs are discarded after the count is updated."
   ]
  },
  {
   "cell_type": "markdown",
   "metadata": {
    "_cell_guid": "e7552ed1-fcfe-422b-a76c-f1bf91a2e064",
    "_uuid": "2bfe59ecf1564e278d73bee93e222372f0c01dd3"
   },
   "source": [
    "### Apriori Algorithm \n",
    "Apriori is an algorithm used to identify frequent item sets (in our case, item pairs).  It does so using a \"bottom up\" approach, first identifying individual items that satisfy a minimum occurence threshold. It then extends the item set, adding one item at a time and checking if the resulting item set still satisfies the specified threshold.  The algorithm stops when there are no more items to add that meet the minimum occurrence requirement.  Here's an example of apriori in action, assuming a minimum occurence threshold of 3:\n",
    "\n",
    "\n",
    "    order 1: apple, egg, milk  \n",
    "    order 2: carrot, milk  \n",
    "    order 3: apple, egg, carrot\n",
    "    order 4: apple, egg\n",
    "    order 5: apple, carrot\n",
    "\n",
    "    \n",
    "    Iteration 1:  Count the number of times each item occurs   \n",
    "    item set      occurrence count    \n",
    "    {apple}              4   \n",
    "    {egg}                3   \n",
    "    {milk}               2   \n",
    "    {carrot}             3   \n",
    "\n",
    "    {milk} and {carrot} are eliminated because they do not meet the minimum occurrence threshold.\n",
    "\n",
    "\n",
    "    Iteration 2: Build item sets of size 2 using the remaining items from Iteration 1 \n",
    "                 (ie: apple, egg)  \n",
    "    item set           occurence count  \n",
    "    {apple, egg}             3  \n",
    "\n",
    "    Only {apple, egg} remains and the algorithm stops since there are no more items to add.\n",
    "   \n",
    "   \n",
    "If we had more orders and items, we can continue to iterate, building item sets consisting of more than 2 elements.  For the problem we are trying to solve (ie: finding relationships between pairs of items), it suffices to implement apriori to get to item sets of size 2."
   ]
  },
  {
   "cell_type": "markdown",
   "metadata": {
    "_cell_guid": "9814b186-7467-4fbe-b8e8-34adf970cfdc",
    "_uuid": "516cfe4664132e59fbbcd1d4742643ab58f21b29"
   },
   "source": [
    "### Association Rules Mining\n",
    "Once the item sets have been generated using apriori, we can start mining association rules.  Given that we are only looking at item sets of size 2, the association rules we will generate will be of the form {A} -> {B}.  One common application of these rules is in the domain of recommender systems, where customers who purchased item A are recommended item B.\n",
    "\n",
    "Here are 3 key metrics to consider when evaluating association rules:\n",
    "\n",
    "1. <b>support</b>  \n",
    "    This is the percentage of orders that contains the item set. In the example above, there are 5 orders in total \n",
    "    and {apple,egg} occurs in 3 of them, so: \n",
    "       \n",
    "                    support{apple,egg} = 3/5 or 60%\n",
    "        \n",
    "    The minimum support threshold required by apriori can be set based on knowledge of your domain.  In this \n",
    "    grocery dataset for example, since there could be thousands of distinct items and an order can contain \n",
    "    only a small fraction of these items, setting the support threshold to 0.01% may be reasonable.<br><br><br>\n",
    "    \n",
    "2. <b>confidence</b>  \n",
    "    Given two items, A and B, confidence measures the percentage of times that item B is purchased, given that \n",
    "    item A was purchased. This is expressed as:\n",
    "       \n",
    "                    confidence{A->B} = support{A,B} / support{A}   \n",
    "                    \n",
    "    Confidence values range from 0 to 1, where 0 indicates that B is never purchased when A is purchased, and 1 \n",
    "    indicates that B is always purchased whenever A is purchased.  Note that the confidence measure is directional.     This means that we can also compute the percentage of times that item A is purchased, given that item B was \n",
    "    purchased:\n",
    "       \n",
    "                    confidence{B->A} = support{A,B} / support{B}    \n",
    "                    \n",
    "    In our example, the percentage of times that egg is purchased, given that apple was purchased is:  \n",
    "       \n",
    "                    confidence{apple->egg} = support{apple,egg} / support{apple}\n",
    "                                           = (3/5) / (4/5)\n",
    "                                           = 0.75 or 75%\n",
    "\n",
    "    A confidence value of 0.75 implies that out of all orders that contain apple, 75% of them also contain egg.  Now, \n",
    "    we look at the confidence measure in the opposite direction (ie: egg->apple): \n",
    "       \n",
    "                    confidence{egg->apple} = support{apple,egg} / support{egg}\n",
    "                                           = (3/5) / (3/5)\n",
    "                                           = 1 or 100%  \n",
    "                                           \n",
    "    Here we see that all of the orders that contain egg also contain apple.  But, does this mean that there is a \n",
    "    relationship between these two items, or are they occurring together in the same orders simply by chance?  To \n",
    "    answer this question, we look at another measure which takes into account the popularity of <i>both</i> items.<br><br><br>  \n",
    "    \n",
    "3. <b>lift</b>  \n",
    "    Given two items, A and B, lift indicates whether there is a relationship between A and B, or whether the two items \n",
    "    are occuring together in the same orders simply by chance (ie: at random).  Unlike the confidence metric whose \n",
    "    value may vary depending on direction (eg: confidence{A->B} may be different from confidence{B->A}), \n",
    "    lift has no direction. This means that the lift{A,B} is always equal to the lift{B,A}: \n",
    "       \n",
    "                    lift{A,B} = lift{B,A} = support{A,B} / (support{A} * support{B})   \n",
    "    \n",
    "    In our example, we compute lift as follows:\n",
    "    \n",
    "         lift{apple,egg} = lift{egg,apple} = support{apple,egg} / (support{apple} * support{egg})\n",
    "                         = (3/5) / (4/5 * 3/5) \n",
    "                         = 1.25    \n",
    "               \n",
    "    One way to understand lift is to think of the denominator as the likelihood that A and B will appear in the same \n",
    "    order if there was <i>no</i> relationship between them. In the example above, if apple occurred in 80% of the\n",
    "    orders and egg occurred in 60% of the orders, then if there was no relationship between them, we would \n",
    "    <i>expect</i> both of them to show up together in the same order 48% of the time (ie: 80% * 60%).  The numerator, \n",
    "    on the other hand, represents how often apple and egg <i>actually</i> appear together in the same order.  In \n",
    "    this example, that is 60% of the time.  Taking the numerator and dividing it by the denominator, we get to how \n",
    "    many more times apple and egg actually appear in the same order, compared to if there was no relationship between     them (ie: that they are occurring together simply at random).  \n",
    "    \n",
    "    In summary, lift can take on the following values:\n",
    "    \n",
    "        * lift = 1 implies no relationship between A and B. \n",
    "          (ie: A and B occur together only by chance)\n",
    "      \n",
    "        * lift > 1 implies that there is a positive relationship between A and B.\n",
    "          (ie:  A and B occur together more often than random)\n",
    "    \n",
    "        * lift < 1 implies that there is a negative relationship between A and B.\n",
    "          (ie:  A and B occur together less often than random)\n",
    "        \n",
    "    In our example, apple and egg occur together 1.25 times <i>more</i> than random, so we conclude that there exists \n",
    "    a positive relationship between them.\n",
    "   \n",
    "Armed with knowledge of apriori and association rules mining, let's dive into the data and code to see what relationships we unravel!"
   ]
  },
  {
   "cell_type": "markdown",
   "metadata": {
    "_cell_guid": "719e883c-03f3-4fb1-90e3-fd99855ff022",
    "_uuid": "338d54d8ba644a93dd8d5076d5edf3fa24121006"
   },
   "source": [
    "### Input Dataset\n",
    "Instacart, an online grocer, has graciously made some of their datasets accessible to the public.  The order and product datasets that we will be using can be downloaded from the link below, along with the data dictionary:\n",
    "\n",
    "“The Instacart Online Grocery Shopping Dataset 2017”, Accessed from https://www.instacart.com/datasets/grocery-shopping-2017 on September 1, 2017.<br><br>"
   ]
  },
  {
   "cell_type": "code",
   "execution_count": 2,
   "metadata": {
    "_cell_guid": "6187d6e8-3a64-4802-b5a5-c8dcf828a0b3",
    "_uuid": "0e487b731f49e05e7f81490e36894ade9fdd3f50"
   },
   "outputs": [],
   "source": [
    "import pandas as pd\n",
    "import numpy as np\n",
    "import sys\n",
    "from itertools import combinations, groupby\n",
    "from collections import Counter\n",
    "from IPython.display import display"
   ]
  },
  {
   "cell_type": "code",
   "execution_count": 3,
   "metadata": {
    "_cell_guid": "ebb38b54-3250-4636-a53e-6c422f4456bf",
    "_uuid": "009e16e2fcdf0810f77627d1c6439ac5bcc17377"
   },
   "outputs": [],
   "source": [
    "# Function that returns the size of an object in MB\n",
    "def size(obj):\n",
    "    return \"{0:.2f} MB\".format(sys.getsizeof(obj) / (1000 * 1000))"
   ]
  },
  {
   "cell_type": "markdown",
   "metadata": {
    "_cell_guid": "ddefe399-1b17-415b-bad2-b4dfcc9c734f",
    "_uuid": "d92f5eb045da7e74b902fda4ba430b247100bd6f"
   },
   "source": [
    "### Part 1:  Data Preparation"
   ]
  },
  {
   "cell_type": "markdown",
   "metadata": {
    "_cell_guid": "611c8c1a-69df-4e82-8e7f-509ed8687af3",
    "_uuid": "98ca92d66cc1aa6d545d9e414971c718b0801e70"
   },
   "source": [
    "#### A. Load order  data"
   ]
  },
  {
   "cell_type": "code",
   "execution_count": 4,
   "metadata": {
    "_cell_guid": "17379a10-59fc-40ad-8dbb-13c27889094e",
    "_uuid": "7f3836b73419e5f8957f9d42500c40ee8f457f0f",
    "scrolled": true
   },
   "outputs": [
    {
     "name": "stdout",
     "output_type": "stream",
     "text": [
      "orders -- dimensions: (32434489, 4);   size: 1037.90 MB\n"
     ]
    },
    {
     "data": {
      "text/html": [
       "<div>\n",
       "<style scoped>\n",
       "    .dataframe tbody tr th:only-of-type {\n",
       "        vertical-align: middle;\n",
       "    }\n",
       "\n",
       "    .dataframe tbody tr th {\n",
       "        vertical-align: top;\n",
       "    }\n",
       "\n",
       "    .dataframe thead th {\n",
       "        text-align: right;\n",
       "    }\n",
       "</style>\n",
       "<table border=\"1\" class=\"dataframe\">\n",
       "  <thead>\n",
       "    <tr style=\"text-align: right;\">\n",
       "      <th></th>\n",
       "      <th>order_id</th>\n",
       "      <th>product_id</th>\n",
       "      <th>add_to_cart_order</th>\n",
       "      <th>reordered</th>\n",
       "    </tr>\n",
       "  </thead>\n",
       "  <tbody>\n",
       "    <tr>\n",
       "      <th>0</th>\n",
       "      <td>2</td>\n",
       "      <td>33120</td>\n",
       "      <td>1</td>\n",
       "      <td>1</td>\n",
       "    </tr>\n",
       "    <tr>\n",
       "      <th>1</th>\n",
       "      <td>2</td>\n",
       "      <td>28985</td>\n",
       "      <td>2</td>\n",
       "      <td>1</td>\n",
       "    </tr>\n",
       "    <tr>\n",
       "      <th>2</th>\n",
       "      <td>2</td>\n",
       "      <td>9327</td>\n",
       "      <td>3</td>\n",
       "      <td>0</td>\n",
       "    </tr>\n",
       "    <tr>\n",
       "      <th>3</th>\n",
       "      <td>2</td>\n",
       "      <td>45918</td>\n",
       "      <td>4</td>\n",
       "      <td>1</td>\n",
       "    </tr>\n",
       "    <tr>\n",
       "      <th>4</th>\n",
       "      <td>2</td>\n",
       "      <td>30035</td>\n",
       "      <td>5</td>\n",
       "      <td>0</td>\n",
       "    </tr>\n",
       "  </tbody>\n",
       "</table>\n",
       "</div>"
      ],
      "text/plain": [
       "   order_id  product_id  add_to_cart_order  reordered\n",
       "0         2       33120                  1          1\n",
       "1         2       28985                  2          1\n",
       "2         2        9327                  3          0\n",
       "3         2       45918                  4          1\n",
       "4         2       30035                  5          0"
      ]
     },
     "metadata": {},
     "output_type": "display_data"
    }
   ],
   "source": [
    "orders = pd.read_csv('instacart_transaction.csv')\n",
    "print('orders -- dimensions: {0};   size: {1}'.format(orders.shape, size(orders)))\n",
    "display(orders.head())"
   ]
  },
  {
   "cell_type": "code",
   "execution_count": 15,
   "metadata": {},
   "outputs": [
    {
     "data": {
      "text/plain": [
       "count    3.243449e+07\n",
       "mean     2.557634e+04\n",
       "std      1.409669e+04\n",
       "min      1.000000e+00\n",
       "25%      1.353000e+04\n",
       "50%      2.525600e+04\n",
       "75%      3.793500e+04\n",
       "max      4.968800e+04\n",
       "Name: item_id, dtype: float64"
      ]
     },
     "execution_count": 15,
     "metadata": {},
     "output_type": "execute_result"
    }
   ],
   "source": [
    "orders.describe(include = 'add_to_cart_order')"
   ]
  },
  {
   "cell_type": "markdown",
   "metadata": {
    "_cell_guid": "92ac9b55-e7b7-4cfe-8d70-4ab601226a88",
    "_uuid": "94fdf6593d6d766c862f9d03e1172949ef9c6e8b"
   },
   "source": [
    "#### B. Convert order data into format expected by the association rules function"
   ]
  },
  {
   "cell_type": "code",
   "execution_count": 5,
   "metadata": {
    "_cell_guid": "e9736090-913e-4963-b381-7b24c6a70d00",
    "_uuid": "072c8a04a5f9488573f5082c01df7e809868dd15"
   },
   "outputs": [
    {
     "data": {
      "text/plain": [
       "order_id\n",
       "2    33120\n",
       "2    28985\n",
       "2     9327\n",
       "2    45918\n",
       "2    30035\n",
       "2    17794\n",
       "2    40141\n",
       "2     1819\n",
       "2    43668\n",
       "3    33754\n",
       "Name: item_id, dtype: int64"
      ]
     },
     "metadata": {},
     "output_type": "display_data"
    },
    {
     "data": {
      "text/plain": [
       "pandas.core.series.Series"
      ]
     },
     "execution_count": 5,
     "metadata": {},
     "output_type": "execute_result"
    }
   ],
   "source": [
    "# Convert from DataFrame to a Series, with order_id as index and item_id as value\n",
    "orders = orders.set_index('order_id')['product_id'].rename('item_id')\n",
    "display(orders.head(10))\n",
    "type(orders)"
   ]
  },
  {
   "cell_type": "markdown",
   "metadata": {
    "_cell_guid": "e3f20905-3b6a-4ff5-bdc2-ae8b92c069e5",
    "_uuid": "5cd89dbd29af1eb5d5d3cca36eb8e11b26431164"
   },
   "source": [
    "#### C. Display summary statistics for order data"
   ]
  },
  {
   "cell_type": "code",
   "execution_count": 6,
   "metadata": {
    "_cell_guid": "37d2f26c-6398-4544-8ac1-0afa21d066a3",
    "_uuid": "0950199479ff1e56263f66e4b171ff45379e03b8"
   },
   "outputs": [
    {
     "name": "stdout",
     "output_type": "stream",
     "text": [
      "dimensions: (32434489,);   size: 518.95 MB;   unique_orders: 3214874;   unique_items: 49677\n"
     ]
    }
   ],
   "source": [
    "print('dimensions: {0};   size: {1};   unique_orders: {2};   unique_items: {3}'\n",
    "      .format(orders.shape, size(orders), len(orders.index.unique()), len(orders.value_counts())))"
   ]
  },
  {
   "cell_type": "markdown",
   "metadata": {
    "_cell_guid": "afa98af1-9a11-43ce-8e12-014c6e724075",
    "_uuid": "697a072213997ed4e7c8affbfc0b1ea736113aac"
   },
   "source": [
    "### Part 2: Association Rules Function"
   ]
  },
  {
   "cell_type": "markdown",
   "metadata": {
    "_cell_guid": "7efcec16-16a8-407f-bd9a-6d53c491c01a",
    "_uuid": "1f5345c3bff3b50a35fec45ffa81838e24d134d3"
   },
   "source": [
    "#### A. Helper functions to the main association rules function"
   ]
  },
  {
   "cell_type": "code",
   "execution_count": 7,
   "metadata": {
    "_cell_guid": "95729dab-8f56-4ec4-8d12-15ed38eff18d",
    "_uuid": "55ba9d736129af7561f275d3dc29d8a3b2dfd30e",
    "scrolled": true
   },
   "outputs": [],
   "source": [
    "# Returns frequency counts for items and item pairs\n",
    "def freq(iterable):\n",
    "    if type(iterable) == pd.core.series.Series:\n",
    "        return iterable.value_counts().rename(\"freq\")\n",
    "    else: \n",
    "        return pd.Series(Counter(iterable)).rename(\"freq\")\n",
    "\n",
    "    \n",
    "# Returns number of unique orders\n",
    "def order_count(order_item):\n",
    "    return len(set(order_item.index))\n",
    "\n",
    "\n",
    "# Returns generator that yields item pairs, one at a time\n",
    "def get_item_pairs(order_item):\n",
    "    order_item = order_item.reset_index().to_numpy()\n",
    "    for order_id, order_object in groupby(order_item, lambda x: x[0]):\n",
    "        item_list = [item[1] for item in order_object]\n",
    "              \n",
    "        for item_pair in combinations(item_list, 2):\n",
    "            yield item_pair\n",
    "            \n",
    "\n",
    "# Returns frequency and support associated with item\n",
    "def merge_item_stats(item_pairs, item_stats):\n",
    "    return (item_pairs\n",
    "                .merge(item_stats.rename(columns={'freq': 'freqA', 'support': 'supportA'}), left_on='item_A', right_index=True)\n",
    "                .merge(item_stats.rename(columns={'freq': 'freqB', 'support': 'supportB'}), left_on='item_B', right_index=True))\n",
    "\n",
    "\n",
    "# Returns name associated with item\n",
    "def merge_item_name(rules, item_name):\n",
    "    columns = ['itemA','itemB','freqAB','supportAB','freqA','supportA','freqB','supportB', \n",
    "               'confidenceAtoB','confidenceBtoA','lift']\n",
    "    rules = (rules\n",
    "                .merge(item_name.rename(columns={'item_name': 'itemA'}), left_on='item_A', right_on='item_id')\n",
    "                .merge(item_name.rename(columns={'item_name': 'itemB'}), left_on='item_B', right_on='item_id'))\n",
    "    return rules[columns]               "
   ]
  },
  {
   "cell_type": "markdown",
   "metadata": {
    "_cell_guid": "17b82fe5-464d-422b-8b4e-550551b54e58",
    "_uuid": "fadb8d35353ee366b37d22f051f6c5d670704b96"
   },
   "source": [
    "#### B. Association rules function"
   ]
  },
  {
   "cell_type": "code",
   "execution_count": 8,
   "metadata": {
    "_cell_guid": "e94b8466-b7db-4feb-b27a-b65e37626bac",
    "_uuid": "ebde898bf77e55b5ef8643d89ce961c1aa8ec08a"
   },
   "outputs": [],
   "source": [
    "def association_rules(order_item, min_support):\n",
    "\n",
    "    print(\"Starting order_item: {:22d}\".format(len(order_item)))\n",
    "\n",
    "\n",
    "    # Calculate item frequency and support\n",
    "    item_stats             = freq(order_item).to_frame(\"freq\")\n",
    "    item_stats['support']  = item_stats['freq'] / order_count(order_item)\n",
    "\n",
    "\n",
    "    # Filter from order_item items below min support \n",
    "    qualifying_items       = item_stats[item_stats['support'] >= min_support].index\n",
    "    order_item             = order_item[order_item.isin(qualifying_items)]\n",
    "\n",
    "    print(\"Items with support >= {}: {:15d}\".format(min_support, len(qualifying_items)))\n",
    "    print(\"Remaining order_item: {:21d}\".format(len(order_item)))\n",
    "\n",
    "\n",
    "    # Filter from order_item orders with less than 2 items\n",
    "    order_size             = freq(order_item.index)\n",
    "    qualifying_orders      = order_size[order_size >= 2].index\n",
    "    order_item             = order_item[order_item.index.isin(qualifying_orders)]\n",
    "\n",
    "    print(\"Remaining orders with 2+ items: {:11d}\".format(len(qualifying_orders)))\n",
    "    print(\"Remaining order_item: {:21d}\".format(len(order_item)))\n",
    "\n",
    "\n",
    "    # Recalculate item frequency and support\n",
    "    item_stats             = freq(order_item).to_frame(\"freq\")\n",
    "    item_stats['support']  = item_stats['freq'] / order_count(order_item)\n",
    "\n",
    "\n",
    "    # Get item pairs generator\n",
    "    item_pair_gen          = get_item_pairs(order_item)\n",
    "\n",
    "\n",
    "    # Calculate item pair frequency and support\n",
    "    item_pairs              = freq(item_pair_gen).to_frame(\"freqAB\")\n",
    "    item_pairs['supportAB'] = item_pairs['freqAB'] / len(qualifying_orders)\n",
    "\n",
    "    print(\"Item pairs: {:31d}\".format(len(item_pairs)))\n",
    "\n",
    "\n",
    "    # Filter from item_pairs those below min support\n",
    "    item_pairs              = item_pairs[item_pairs['supportAB'] >= min_support]\n",
    "\n",
    "    print(\"Item pairs with support >= {}: {:10d}\\n\".format(min_support, len(item_pairs)))\n",
    "\n",
    "\n",
    "    # Create table of association rules and compute relevant metrics\n",
    "    item_pairs = item_pairs.reset_index().rename(columns={'level_0': 'item_A', 'level_1': 'item_B'})\n",
    "    item_pairs = merge_item_stats(item_pairs, item_stats)\n",
    "    \n",
    "    item_pairs['confidenceAtoB'] = item_pairs['supportAB'] / item_pairs['supportA']\n",
    "    item_pairs['confidenceBtoA'] = item_pairs['supportAB'] / item_pairs['supportB']\n",
    "    item_pairs['lift']           = item_pairs['supportAB'] / (item_pairs['supportA'] * item_pairs['supportB'])\n",
    "    #print(item_pairs)\n",
    "    \n",
    "    # Return association rules sorted by lift in descending order\n",
    "    return item_pairs.sort_values('lift', ascending=False)"
   ]
  },
  {
   "cell_type": "markdown",
   "metadata": {
    "_cell_guid": "e608b37c-1872-4632-b0ec-307b3ff19a0c",
    "_uuid": "9cfdef69fb7abc9927cbab401b1a6cab14b494f9"
   },
   "source": [
    "### Part 3:  Association Rules Mining"
   ]
  },
  {
   "cell_type": "code",
   "execution_count": 9,
   "metadata": {
    "_cell_guid": "09be74c2-1a24-48ff-bbcf-ca701b0abe4e",
    "_uuid": "bc848efd05034abd042467e15388d8a179e6b8a8"
   },
   "outputs": [
    {
     "name": "stdout",
     "output_type": "stream",
     "text": [
      "Starting order_item:               32434489\n",
      "Items with support >= 0.01:             102\n",
      "Remaining order_item:               7548766\n",
      "Remaining orders with 2+ items:     1664863\n",
      "Remaining order_item:               6859117\n",
      "Item pairs:                           10290\n",
      "Item pairs with support >= 0.01:         28\n",
      "\n",
      "    item_A  item_B  freqAB  supportAB   freqA  supportA   freqB  supportB  \\\n",
      "14   24852   28204   23876   0.014341  401800  0.241341   82313  0.049441   \n",
      "13   24852   45066   20196   0.012131  401800  0.241341   74704  0.044871   \n",
      "26   24852    4920   18493   0.011108  401800  0.241341   74794  0.044925   \n",
      "0    13176   27966   25620   0.015389  327763  0.196871  127862  0.076800   \n",
      "5    24852   49683   22213   0.013342  401800  0.241341   91679  0.055067   \n",
      "15   24852   16797   29182   0.017528  401800  0.241341  122223  0.073413   \n",
      "20   27966   21137   18374   0.011036  127862  0.076800  244163  0.146657   \n",
      "1    13176   47209   37628   0.022601  327763  0.196871  199786  0.120001   \n",
      "2    24852   47766   34032   0.020441  401800  0.241341  164770  0.098969   \n",
      "7    24852   47626   28796   0.017296  401800  0.241341  142234  0.085433   \n",
      "18   13176   21137   40029   0.024043  327763  0.196871  244163  0.146657   \n",
      "22   47766   21903   17914   0.010760  164770  0.098969  224295  0.134723   \n",
      "11   47209   21137   22370   0.013437  199786  0.120001  244163  0.146657   \n",
      "8    47209   21903   20531   0.012332  199786  0.120001  224295  0.134723   \n",
      "16   13176   21903   33606   0.020185  327763  0.196871  224295  0.134723   \n",
      "24   24852   26209   21968   0.013195  401800  0.241341  132550  0.079616   \n",
      "4    24852   21903   35590   0.021377  401800  0.241341  224295  0.134723   \n",
      "3    24852   21137   38564   0.023163  401800  0.241341  244163  0.146657   \n",
      "10   21137   47209   18424   0.011066  244163  0.146657  199786  0.120001   \n",
      "17   47209   13176   24713   0.014844  199786  0.120001  327763  0.196871   \n",
      "25   21137   21903   20068   0.012054  244163  0.146657  224295  0.134723   \n",
      "23   24852   27845   17210   0.010337  401800  0.241341  123114  0.073948   \n",
      "9    21903   21137   18066   0.010851  224295  0.134723  244163  0.146657   \n",
      "27   47766   24852   19363   0.011630  164770  0.098969  401800  0.241341   \n",
      "21   21137   13176   21599   0.012973  244163  0.146657  327763  0.196871   \n",
      "6    24852   47209   20765   0.012472  401800  0.241341  199786  0.120001   \n",
      "19   21903   13176   16766   0.010070  224295  0.134723  327763  0.196871   \n",
      "12   21137   24852   17592   0.010567  244163  0.146657  401800  0.241341   \n",
      "\n",
      "    confidenceAtoB  confidenceBtoA      lift  \n",
      "14        0.059423        0.290064  1.201882  \n",
      "13        0.050264        0.270347  1.120186  \n",
      "26        0.046025        0.247252  1.024493  \n",
      "0         0.078166        0.200372  1.017785  \n",
      "5         0.055284        0.242291  1.003936  \n",
      "15        0.072628        0.238760  0.989306  \n",
      "20        0.143702        0.075253  0.979853  \n",
      "1         0.114802        0.188342  0.956676  \n",
      "2         0.084699        0.206542  0.855811  \n",
      "7         0.071667        0.202455  0.838875  \n",
      "18        0.122128        0.163944  0.832748  \n",
      "22        0.108721        0.079868  0.807000  \n",
      "11        0.111970        0.091619  0.763483  \n",
      "8         0.102765        0.091536  0.762788  \n",
      "16        0.102531        0.149829  0.761055  \n",
      "24        0.054674        0.165734  0.686719  \n",
      "4         0.088576        0.158675  0.657472  \n",
      "3         0.095978        0.157944  0.654441  \n",
      "10        0.075458        0.092219  0.628807  \n",
      "17        0.123697        0.075399  0.628317  \n",
      "25        0.082191        0.089471  0.610075  \n",
      "23        0.042832        0.139789  0.579218  \n",
      "9         0.080546        0.073992  0.549213  \n",
      "27        0.117515        0.048191  0.486926  \n",
      "21        0.088461        0.065898  0.449337  \n",
      "6         0.051680        0.103936  0.430661  \n",
      "19        0.074750        0.051153  0.379689  \n",
      "12        0.072050        0.043783  0.298541  \n",
      "-*-*-*-*-*-*\n",
      "28\n",
      "CPU times: total: 16.2 s\n",
      "Wall time: 16.4 s\n"
     ]
    }
   ],
   "source": [
    "%%time\n",
    "rules = association_rules(orders, 0.01)\n",
    "print(rules)\n",
    "print(\"-*-*-*-*-*-*\")\n",
    "print(len(rules))"
   ]
  },
  {
   "cell_type": "code",
   "execution_count": 10,
   "metadata": {},
   "outputs": [
    {
     "name": "stdout",
     "output_type": "stream",
     "text": [
      "Starting order_item:               32434489\n",
      "Items with support >= 0.01:             102\n",
      "Remaining order_item:               7548766\n",
      "Remaining orders with 2+ items:     1664863\n",
      "Remaining order_item:               6859117\n",
      "Item pairs:                           10290\n",
      "Item pairs with support >= 0.01:         28\n",
      "\n",
      "    item_A  item_B  freqAB  supportAB   freqA  supportA   freqB  supportB  \\\n",
      "14   24852   28204   23876   0.014341  401800  0.241341   82313  0.049441   \n",
      "13   24852   45066   20196   0.012131  401800  0.241341   74704  0.044871   \n",
      "26   24852    4920   18493   0.011108  401800  0.241341   74794  0.044925   \n",
      "0    13176   27966   25620   0.015389  327763  0.196871  127862  0.076800   \n",
      "5    24852   49683   22213   0.013342  401800  0.241341   91679  0.055067   \n",
      "15   24852   16797   29182   0.017528  401800  0.241341  122223  0.073413   \n",
      "20   27966   21137   18374   0.011036  127862  0.076800  244163  0.146657   \n",
      "1    13176   47209   37628   0.022601  327763  0.196871  199786  0.120001   \n",
      "2    24852   47766   34032   0.020441  401800  0.241341  164770  0.098969   \n",
      "7    24852   47626   28796   0.017296  401800  0.241341  142234  0.085433   \n",
      "18   13176   21137   40029   0.024043  327763  0.196871  244163  0.146657   \n",
      "22   47766   21903   17914   0.010760  164770  0.098969  224295  0.134723   \n",
      "11   47209   21137   22370   0.013437  199786  0.120001  244163  0.146657   \n",
      "8    47209   21903   20531   0.012332  199786  0.120001  224295  0.134723   \n",
      "16   13176   21903   33606   0.020185  327763  0.196871  224295  0.134723   \n",
      "24   24852   26209   21968   0.013195  401800  0.241341  132550  0.079616   \n",
      "4    24852   21903   35590   0.021377  401800  0.241341  224295  0.134723   \n",
      "3    24852   21137   38564   0.023163  401800  0.241341  244163  0.146657   \n",
      "10   21137   47209   18424   0.011066  244163  0.146657  199786  0.120001   \n",
      "17   47209   13176   24713   0.014844  199786  0.120001  327763  0.196871   \n",
      "25   21137   21903   20068   0.012054  244163  0.146657  224295  0.134723   \n",
      "23   24852   27845   17210   0.010337  401800  0.241341  123114  0.073948   \n",
      "9    21903   21137   18066   0.010851  224295  0.134723  244163  0.146657   \n",
      "27   47766   24852   19363   0.011630  164770  0.098969  401800  0.241341   \n",
      "21   21137   13176   21599   0.012973  244163  0.146657  327763  0.196871   \n",
      "6    24852   47209   20765   0.012472  401800  0.241341  199786  0.120001   \n",
      "19   21903   13176   16766   0.010070  224295  0.134723  327763  0.196871   \n",
      "12   21137   24852   17592   0.010567  244163  0.146657  401800  0.241341   \n",
      "\n",
      "    confidenceAtoB  confidenceBtoA      lift  \n",
      "14        0.059423        0.290064  1.201882  \n",
      "13        0.050264        0.270347  1.120186  \n",
      "26        0.046025        0.247252  1.024493  \n",
      "0         0.078166        0.200372  1.017785  \n",
      "5         0.055284        0.242291  1.003936  \n",
      "15        0.072628        0.238760  0.989306  \n",
      "20        0.143702        0.075253  0.979853  \n",
      "1         0.114802        0.188342  0.956676  \n",
      "2         0.084699        0.206542  0.855811  \n",
      "7         0.071667        0.202455  0.838875  \n",
      "18        0.122128        0.163944  0.832748  \n",
      "22        0.108721        0.079868  0.807000  \n",
      "11        0.111970        0.091619  0.763483  \n",
      "8         0.102765        0.091536  0.762788  \n",
      "16        0.102531        0.149829  0.761055  \n",
      "24        0.054674        0.165734  0.686719  \n",
      "4         0.088576        0.158675  0.657472  \n",
      "3         0.095978        0.157944  0.654441  \n",
      "10        0.075458        0.092219  0.628807  \n",
      "17        0.123697        0.075399  0.628317  \n",
      "25        0.082191        0.089471  0.610075  \n",
      "23        0.042832        0.139789  0.579218  \n",
      "9         0.080546        0.073992  0.549213  \n",
      "27        0.117515        0.048191  0.486926  \n",
      "21        0.088461        0.065898  0.449337  \n",
      "6         0.051680        0.103936  0.430661  \n",
      "19        0.074750        0.051153  0.379689  \n",
      "12        0.072050        0.043783  0.298541  \n",
      "---------\n",
      "---------\n",
      "Starting order_item:               32434489\n",
      "Items with support >= 0.02:              39\n",
      "Remaining order_item:               4722453\n",
      "Remaining orders with 2+ items:     1196086\n",
      "Remaining order_item:               3941125\n",
      "Item pairs:                            1482\n",
      "Item pairs with support >= 0.02:         10\n",
      "\n",
      "   item_A  item_B  freqAB  supportAB   freqA  supportA   freqB  supportB  \\\n",
      "6   24852   16797   29182   0.024398  341573  0.285576  103795  0.086779   \n",
      "0   13176   27966   25620   0.021420  284048  0.237481  119283  0.099728   \n",
      "1   13176   47209   37628   0.031459  284048  0.237481  186278  0.155740   \n",
      "2   24852   47766   34032   0.028453  341573  0.285576  152526  0.127521   \n",
      "5   24852   47626   28796   0.024075  341573  0.285576  131742  0.110144   \n",
      "9   13176   21137   40029   0.033467  284048  0.237481  224899  0.188029   \n",
      "7   13176   21903   33606   0.028097  284048  0.237481  207842  0.173768   \n",
      "3   24852   21137   38564   0.032242  341573  0.285576  224899  0.188029   \n",
      "4   24852   21903   35590   0.029755  341573  0.285576  207842  0.173768   \n",
      "8   47209   13176   24713   0.020662  186278  0.155740  284048  0.237481   \n",
      "\n",
      "   confidenceAtoB  confidenceBtoA      lift  \n",
      "6        0.085434        0.281150  0.984504  \n",
      "0        0.090196        0.214783  0.904422  \n",
      "1        0.132471        0.201999  0.850590  \n",
      "2        0.099633        0.223123  0.781308  \n",
      "5        0.084304        0.218579  0.765397  \n",
      "9        0.140923        0.177987  0.749476  \n",
      "7        0.118311        0.161690  0.680854  \n",
      "3        0.112901        0.171473  0.600445  \n",
      "4        0.104194        0.171236  0.599616  \n",
      "8        0.132667        0.087003  0.558643  \n",
      "---------\n",
      "---------\n",
      "Starting order_item:               32434489\n",
      "Items with support >= 0.04:              11\n",
      "Remaining order_item:               2460215\n",
      "Remaining orders with 2+ items:      628537\n",
      "Remaining order_item:               1551396\n",
      "Item pairs:                             110\n",
      "Item pairs with support >= 0.04:          9\n",
      "\n",
      "   item_A  item_B  freqAB  supportAB   freqA  supportA   freqB  supportB  \\\n",
      "6   24852   16797   29182   0.046428  234940  0.373789   83098  0.132209   \n",
      "1   13176   47209   37628   0.059866  206519  0.328571  148170  0.235738   \n",
      "0   13176   27966   25620   0.040761  206519  0.328571  102124  0.162479   \n",
      "2   24852   47766   34032   0.054145  234940  0.373789  124244  0.197672   \n",
      "5   24852   47626   28796   0.045814  234940  0.373789  107197  0.170550   \n",
      "8   13176   21137   40029   0.063686  206519  0.328571  184331  0.293270   \n",
      "7   13176   21903   33606   0.053467  206519  0.328571  168615  0.268266   \n",
      "4   24852   21903   35590   0.056624  234940  0.373789  168615  0.268266   \n",
      "3   24852   21137   38564   0.061355  234940  0.373789  184331  0.293270   \n",
      "\n",
      "   confidenceAtoB  confidenceBtoA      lift  \n",
      "6        0.124210        0.351176  0.939503  \n",
      "1        0.182201        0.253952  0.772897  \n",
      "0        0.124056        0.250871  0.763523  \n",
      "2        0.144854        0.273913  0.732801  \n",
      "5        0.122567        0.268627  0.718660  \n",
      "8        0.193827        0.217158  0.660917  \n",
      "7        0.162726        0.199306  0.606585  \n",
      "4        0.151485        0.211073  0.564684  \n",
      "3        0.164144        0.209211  0.559703  \n",
      "---------\n",
      "---------\n",
      "Starting order_item:               32434489\n",
      "Items with support >= 0.06:               5\n",
      "Remaining order_item:               1572203\n",
      "Remaining orders with 2+ items:      304351\n",
      "Remaining order_item:                668128\n",
      "Item pairs:                              20\n",
      "Item pairs with support >= 0.06:         12\n",
      "\n",
      "    item_A  item_B  freqAB  supportAB   freqA  supportA   freqB  supportB  \\\n",
      "2    24852   21903   35590   0.116937  118625  0.389764  132748  0.436167   \n",
      "1    24852   21137   38564   0.126709  118625  0.389764  150887  0.495766   \n",
      "0    13176   47209   37628   0.123634  140228  0.460744  125640  0.412813   \n",
      "9    13176   21137   40029   0.131522  140228  0.460744  150887  0.495766   \n",
      "7    13176   21903   33606   0.110419  140228  0.460744  132748  0.436167   \n",
      "8    47209   13176   24713   0.081199  125640  0.412813  140228  0.460744   \n",
      "3    24852   47209   20765   0.068227  118625  0.389764  125640  0.412813   \n",
      "4    47209   21903   20531   0.067458  125640  0.412813  132748  0.436167   \n",
      "6    47209   21137   22370   0.073501  125640  0.412813  150887  0.495766   \n",
      "10   21137   13176   21599   0.070967  150887  0.495766  140228  0.460744   \n",
      "11   21137   21903   20068   0.065937  150887  0.495766  132748  0.436167   \n",
      "5    21137   47209   18424   0.060535  150887  0.495766  125640  0.412813   \n",
      "\n",
      "    confidenceAtoB  confidenceBtoA      lift  \n",
      "2         0.300021        0.268102  0.687858  \n",
      "1         0.325092        0.255582  0.655736  \n",
      "0         0.268334        0.299491  0.650015  \n",
      "9         0.285457        0.265291  0.575788  \n",
      "7         0.239653        0.253156  0.549451  \n",
      "8         0.196697        0.176234  0.426911  \n",
      "3         0.175047        0.165274  0.424036  \n",
      "4         0.163411        0.154661  0.374653  \n",
      "6         0.178048        0.148257  0.359138  \n",
      "10        0.143147        0.154028  0.310686  \n",
      "11        0.133000        0.151174  0.304929  \n",
      "5         0.122105        0.146641  0.295787  \n",
      "---------\n",
      "---------\n",
      "Starting order_item:               32434489\n"
     ]
    },
    {
     "name": "stdout",
     "output_type": "stream",
     "text": [
      "Items with support >= 0.08:               3\n",
      "Remaining order_item:               1116698\n",
      "Remaining orders with 2+ items:      118546\n",
      "Remaining order_item:                237299\n",
      "Item pairs:                               6\n",
      "Item pairs with support >= 0.08:          4\n",
      "\n",
      "   item_A  item_B  freqAB  supportAB   freqA  supportA   freqB  supportB  \\\n",
      "0   24852   21137   38564   0.325308   57125  0.481880  117577  0.991826   \n",
      "2   13176   21137   40029   0.337666   62597  0.528040  117577  0.991826   \n",
      "3   21137   13176   21599   0.182199  117577  0.991826   62597  0.528040   \n",
      "1   21137   24852   17592   0.148398  117577  0.991826   57125  0.481880   \n",
      "\n",
      "   confidenceAtoB  confidenceBtoA      lift  \n",
      "0        0.675081        0.327989  0.680645  \n",
      "2        0.639472        0.340449  0.644742  \n",
      "3        0.183701        0.345048  0.347892  \n",
      "1        0.149621        0.307956  0.310494  \n",
      "---------\n",
      "---------\n",
      "Starting order_item:               32434489\n",
      "Items with support >= 0.1:               2\n",
      "Remaining order_item:                852015\n",
      "Remaining orders with 2+ items:        1176\n",
      "Remaining order_item:                  2352\n",
      "Item pairs:                               2\n",
      "Item pairs with support >= 0.1:          2\n",
      "\n",
      "   item_A  item_B  freqAB  supportAB  freqA  supportA  freqB  supportB  \\\n",
      "0   24852   13176     654   0.556122   1176       1.0   1176       1.0   \n",
      "1   13176   24852     522   0.443878   1176       1.0   1176       1.0   \n",
      "\n",
      "   confidenceAtoB  confidenceBtoA      lift  \n",
      "0        0.556122        0.556122  0.556122  \n",
      "1        0.443878        0.443878  0.443878  \n",
      "---------\n",
      "---------\n",
      "[0.01, 0.02, 0.04, 0.06, 0.08, 0.1]\n",
      "[28. 10.  9. 12.  4.  2.]\n"
     ]
    },
    {
     "data": {
      "image/png": "[encoded data removed]",
      "text/plain": [
       "<Figure size 432x288 with 1 Axes>"
      ]
     },
     "metadata": {
      "needs_background": "light"
     },
     "output_type": "display_data"
    },
    {
     "name": "stdout",
     "output_type": "stream",
     "text": [
      "CPU times: total: 46.2 s\n",
      "Wall time: 46.6 s\n"
     ]
    }
   ],
   "source": [
    "%%time\n",
    "import matplotlib.pyplot as plt\n",
    "min_sup = [0.01, 0.02, 0.04, 0.06, 0.08, 0.1]\n",
    "num = []\n",
    "for i in min_sup:\n",
    "    rules = association_rules(orders, i)\n",
    "    print(rules)\n",
    "    num1 = len(rules)\n",
    "    num = np.append(num,num1)\n",
    "    #print(num)\n",
    "    print(\"---------\")\n",
    "    print(\"---------\")\n",
    "    #num=append.(num1)\n",
    "print(min_sup)\n",
    "print(num)\n",
    "#plot the number of items and the corresponding support threshold\n",
    "plt.plot(min_sup, num, linestyle = \"dashed\", linewidth =2, marker = 'o', markersize=6)\n",
    "plt.grid()\n",
    "plt.show()"
   ]
  },
  {
   "cell_type": "code",
   "execution_count": 11,
   "metadata": {
    "_cell_guid": "af1e9b6b-6191-43aa-a0b8-40a3abf49073",
    "_uuid": "b94f6796164b5915d923b71117e9322e7a4afa41"
   },
   "outputs": [
    {
     "data": {
      "text/html": [
       "<div>\n",
       "<style scoped>\n",
       "    .dataframe tbody tr th:only-of-type {\n",
       "        vertical-align: middle;\n",
       "    }\n",
       "\n",
       "    .dataframe tbody tr th {\n",
       "        vertical-align: top;\n",
       "    }\n",
       "\n",
       "    .dataframe thead th {\n",
       "        text-align: right;\n",
       "    }\n",
       "</style>\n",
       "<table border=\"1\" class=\"dataframe\">\n",
       "  <thead>\n",
       "    <tr style=\"text-align: right;\">\n",
       "      <th></th>\n",
       "      <th>itemA</th>\n",
       "      <th>itemB</th>\n",
       "      <th>freqAB</th>\n",
       "      <th>supportAB</th>\n",
       "      <th>freqA</th>\n",
       "      <th>supportA</th>\n",
       "      <th>freqB</th>\n",
       "      <th>supportB</th>\n",
       "      <th>confidenceAtoB</th>\n",
       "      <th>confidenceBtoA</th>\n",
       "      <th>lift</th>\n",
       "    </tr>\n",
       "  </thead>\n",
       "  <tbody>\n",
       "    <tr>\n",
       "      <th>0</th>\n",
       "      <td>Banana</td>\n",
       "      <td>Bag of Organic Bananas</td>\n",
       "      <td>654</td>\n",
       "      <td>0.556122</td>\n",
       "      <td>1176</td>\n",
       "      <td>1.0</td>\n",
       "      <td>1176</td>\n",
       "      <td>1.0</td>\n",
       "      <td>0.556122</td>\n",
       "      <td>0.556122</td>\n",
       "      <td>0.556122</td>\n",
       "    </tr>\n",
       "    <tr>\n",
       "      <th>1</th>\n",
       "      <td>Bag of Organic Bananas</td>\n",
       "      <td>Banana</td>\n",
       "      <td>522</td>\n",
       "      <td>0.443878</td>\n",
       "      <td>1176</td>\n",
       "      <td>1.0</td>\n",
       "      <td>1176</td>\n",
       "      <td>1.0</td>\n",
       "      <td>0.443878</td>\n",
       "      <td>0.443878</td>\n",
       "      <td>0.443878</td>\n",
       "    </tr>\n",
       "  </tbody>\n",
       "</table>\n",
       "</div>"
      ],
      "text/plain": [
       "                    itemA                   itemB  freqAB  supportAB  freqA  \\\n",
       "0                  Banana  Bag of Organic Bananas     654   0.556122   1176   \n",
       "1  Bag of Organic Bananas                  Banana     522   0.443878   1176   \n",
       "\n",
       "   supportA  freqB  supportB  confidenceAtoB  confidenceBtoA      lift  \n",
       "0       1.0   1176       1.0        0.556122        0.556122  0.556122  \n",
       "1       1.0   1176       1.0        0.443878        0.443878  0.443878  "
      ]
     },
     "metadata": {},
     "output_type": "display_data"
    }
   ],
   "source": [
    "# Replace item ID with item name and display association rules\n",
    "item_name   = pd.read_csv('products.csv')\n",
    "item_name   = item_name.rename(columns={'product_id':'item_id', 'product_name':'item_name'})\n",
    "rules_final = merge_item_name(rules, item_name).sort_values('lift', ascending=False)\n",
    "display(rules_final)"
   ]
  },
  {
   "cell_type": "markdown",
   "metadata": {
    "_cell_guid": "cae6d63e-8a21-42cb-8f66-18c4fed5bcf4",
    "_uuid": "4a4692d044fb1977315f38165d47955a21cd054f"
   },
   "source": [
    "### Part 4:  Conclusion"
   ]
  },
  {
   "cell_type": "markdown",
   "metadata": {
    "_cell_guid": "344d7ef3-953c-48f3-8c64-8f2cb5413341",
    "_uuid": "1fb820fbf9612419e59483bab6d37fb0bccd21f4"
   },
   "source": [
    "From the output above, we see that the top associations are not surprising, with one flavor of an item being purchased with another flavor from the same item family (eg: Strawberry Chia Cottage Cheese with Blueberry Acai Cottage Cheese, Chicken Cat Food with Turkey Cat Food, etc).  As mentioned, one common application of association rules mining is in the domain of recommender systems.  Once item pairs have been identified as having positive relationship, recommendations can be made to customers in order to increase sales.  And hopefully, along the way, also introduce customers to items they never would have tried before or even imagined existed!.This notebook is adaption from the following kaggle notebook https://www.kaggle.com/datatheque/association-rules-mining-market-basket-analysis. "
   ]
  },
  {
   "cell_type": "code",
   "execution_count": null,
   "metadata": {},
   "outputs": [],
   "source": []
  }
 ],
 "metadata": {
  "kernelspec": {
   "display_name": "Python 3 (ipykernel)",
   "language": "python",
   "name": "python3"
  },
  "language_info": {
   "codemirror_mode": {
    "name": "ipython",
    "version": 3
   },
   "file_extension": ".py",
   "mimetype": "text/x-python",
   "name": "python",
   "nbconvert_exporter": "python",
   "pygments_lexer": "ipython3",
   "version": "3.9.12"
  }
 },
 "nbformat": 4,
 "nbformat_minor": 2
}
